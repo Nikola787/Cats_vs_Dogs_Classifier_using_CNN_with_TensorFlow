{
  "nbformat": 4,
  "nbformat_minor": 0,
  "metadata": {
    "colab": {
      "provenance": []
    },
    "kernelspec": {
      "name": "python3",
      "display_name": "Python 3"
    },
    "language_info": {
      "name": "python"
    },
    "accelerator": "GPU",
    "gpuClass": "standard"
  },
  "cells": [
    {
      "cell_type": "code",
      "source": [
        "# Using CNN with the Cats vs Dogs Dataset\n",
        "\n",
        "import os\n",
        "import zipfile\n",
        "import random\n",
        "import shutil\n",
        "import tensorflow as tf\n",
        "from tensorflow.keras.preprocessing.image import ImageDataGenerator\n",
        "from shutil import copyfile\n",
        "import matplotlib.pyplot as plt"
      ],
      "metadata": {
        "id": "RehuHak8kXjI"
      },
      "execution_count": 1,
      "outputs": []
    },
    {
      "cell_type": "code",
      "source": [
        "# skidamo dataset (kao zip fajl) u tmp folderu, a zatim ga otkapujemo u tom istom folderu (Pet images)\n",
        "!wget --no-check-certificate \\\n",
        "    \"https://download.microsoft.com/download/3/E/1/3E1C3F21-ECDB-4869-8368-6DEBA77B919F/kagglecatsanddogs_5340.zip\" \\\n",
        "    -O \"/tmp/cats-and-dogs.zip\"\n",
        "\n",
        "local_zip = '/tmp/cats-and-dogs.zip'\n",
        "zip_ref   = zipfile.ZipFile(local_zip, 'r')\n",
        "zip_ref.extractall('/tmp')\n",
        "zip_ref.close()"
      ],
      "metadata": {
        "colab": {
          "base_uri": "https://localhost:8080/"
        },
        "id": "bsUDUEyVkXlj",
        "outputId": "30524278-7ed8-475e-8753-8990243f4c69"
      },
      "execution_count": 2,
      "outputs": [
        {
          "output_type": "stream",
          "name": "stdout",
          "text": [
            "--2023-03-06 23:03:30--  https://download.microsoft.com/download/3/E/1/3E1C3F21-ECDB-4869-8368-6DEBA77B919F/kagglecatsanddogs_5340.zip\n",
            "Resolving download.microsoft.com (download.microsoft.com)... 184.51.99.68, 2600:1413:1:597::317f, 2600:1413:1:5a0::317f\n",
            "Connecting to download.microsoft.com (download.microsoft.com)|184.51.99.68|:443... connected.\n",
            "HTTP request sent, awaiting response... 200 OK\n",
            "Length: 824887076 (787M) [application/octet-stream]\n",
            "Saving to: ‘/tmp/cats-and-dogs.zip’\n",
            "\n",
            "/tmp/cats-and-dogs. 100%[===================>] 786.67M   228MB/s    in 3.4s    \n",
            "\n",
            "2023-03-06 23:03:34 (234 MB/s) - ‘/tmp/cats-and-dogs.zip’ saved [824887076/824887076]\n",
            "\n"
          ]
        }
      ]
    },
    {
      "cell_type": "code",
      "source": [
        "# kreiramo funckiju koja ce kreirati neophodne direktorijume\n",
        "def create_train_val_dirs(root_path):\n",
        "\n",
        "  base_dir = root_path\n",
        "  os.makedirs(root_path)\n",
        "\n",
        "  training_dir = os.path.join(base_dir, 'training')\n",
        "  os.makedirs(training_dir)\n",
        "\n",
        "  validation_dir = os.path.join(base_dir, 'validation')\n",
        "  os.makedirs(validation_dir)\n",
        "  \n",
        "  training_cats_dir = os.path.join(training_dir, 'cats')\n",
        "  os.makedirs(training_cats_dir)\n",
        "\n",
        "  training_dogs_dir = os.path.join(training_dir, 'dogs')\n",
        "  os.makedirs(training_dogs_dir)\n",
        "\n",
        "  validation_cats_dir = os.path.join(validation_dir, 'cats')\n",
        "  os.makedirs(validation_cats_dir)\n",
        "\n",
        "  validation_dogs_dir = os.path.join(validation_dir, 'dogs')\n",
        "  os.makedirs(validation_dogs_dir)"
      ],
      "metadata": {
        "id": "sN8VZ4R1llig"
      },
      "execution_count": 3,
      "outputs": []
    },
    {
      "cell_type": "code",
      "source": [
        "# definisemo funkciju koja ce podeliti podatke za trening i validaciju\n",
        "def split_data(SOURCE_DIR, TRAINING_DIR, VALIDATION_DIR, SPLIT_SIZE):\n",
        "  \n",
        "  # izvlacimo podatke iz SOURCE_DIR\n",
        "  sd = os.listdir(SOURCE_DIR)\n",
        "  # brisemo sve podatke cija je velicina jednaka 0\n",
        "  for fname in sd:\n",
        "    if os.path.getsize(os.path.join(SOURCE_DIR, fname)) <= 0:\n",
        "      print(fname, \"is zero length, so ignoring.\")\n",
        "      sd.remove(fname)\n",
        "  \n",
        "  # definisemo velicinu training i validation seta\n",
        "  training_size = round(len(sd) * SPLIT_SIZE)\n",
        "  validation_size = round(len(sd) * (1 - SPLIT_SIZE))\n",
        "\n",
        "  # shuffle-ujemo podatke \n",
        "  random.sample(sd, len(sd))\n",
        "\n",
        "  # upisujemo podatke u training i validation sample\n",
        "  training_sample = random.sample(sd[:training_size], training_size)\n",
        "  validation_sample = random.sample(sd[training_size:], validation_size)\n",
        "\n",
        "  # upisujemo podatke u odgovarajuce direktorijume\n",
        "  for fname in training_sample:\n",
        "    copyfile(os.path.join(SOURCE_DIR, fname), os.path.join(TRAINING_DIR, fname))\n",
        "\n",
        "  for fname in validation_sample:\n",
        "    copyfile(os.path.join(SOURCE_DIR, fname), os.path.join(VALIDATION_DIR, fname))"
      ],
      "metadata": {
        "id": "v68Ejob1lllG"
      },
      "execution_count": 4,
      "outputs": []
    },
    {
      "cell_type": "code",
      "source": [
        "# kreiramo training i validation data generatore\n",
        "def train_val_generators(TRAINING_DIR, VALIDATION_DIR):\n",
        "  \n",
        "  # instanciramo ImageDataGenerator klasu\n",
        "  train_datagen = ImageDataGenerator(rescale = 1./255)\n",
        "\n",
        "  # kreiramo training generator\n",
        "  train_generator = train_datagen.flow_from_directory(directory=TRAINING_DIR,\n",
        "                                                      batch_size=10,\n",
        "                                                      class_mode='binary',\n",
        "                                                      target_size=(150, 150))\n",
        "  \n",
        "  # instanciramo ImageGenerator klasu za validation data\n",
        "  validation_datagen = ImageDataGenerator(rescale = 1./255)\n",
        "\n",
        "  # kreiramo validation generator\n",
        "  validation_generator = validation_datagen.flow_from_directory(directory=VALIDATION_DIR,\n",
        "                                                                batch_size=10,\n",
        "                                                                class_mode='binary',\n",
        "                                                                target_size=(150, 150))\n",
        "  \n",
        "  return train_generator, validation_generator"
      ],
      "metadata": {
        "id": "74k6fyLqllsb"
      },
      "execution_count": 5,
      "outputs": []
    },
    {
      "cell_type": "code",
      "source": [
        "# kreiramo model\n",
        "\n",
        "from tensorflow.keras.optimizers import RMSprop\n",
        "def create_model():\n",
        "\n",
        "  model = tf.keras.models.Sequential([ \n",
        "      # kreiramo prvi Convolution layer\n",
        "      tf.keras.layers.Conv2D(32, (3,3), activation='relu', input_shape=(150,150,3)),\n",
        "      tf.keras.layers.MaxPooling2D(2,2),\n",
        "      \n",
        "      # kreiramo drugi Convolution layer\n",
        "      tf.keras.layers.Conv2D(64, (3,3), activation='relu'),\n",
        "      tf.keras.layers.MaxPooling2D(2,2),\n",
        "\n",
        "      # kreiramo treci Convolution layer\n",
        "      tf.keras.layers.Conv2D(128, (3,3), activation='relu'),\n",
        "      tf.keras.layers.MaxPooling2D(2,2),\n",
        "\n",
        "      # pretvaramo matricu u 1-dimenzionalni niz\n",
        "      tf.keras.layers.Flatten(),\n",
        "      # definisemo sloj sa 512 neurona i aktivacionom funkcijom relu\n",
        "      tf.keras.layers.Dense(512, activation='relu'),\n",
        "      # definisemo 1 izlazni neuron sa aktivacioniom funkcijom sigmoid\n",
        "      tf.keras.layers.Dense(1, activation='sigmoid'),\n",
        "  ])\n",
        "\n",
        "\n",
        "  model.compile(optimizer=RMSprop(learning_rate=0.001),\n",
        "                loss='binary_crossentropy',\n",
        "                metrics=['accuracy']) \n",
        "\n",
        "  return model"
      ],
      "metadata": {
        "id": "G1aQHyGwlluu"
      },
      "execution_count": 6,
      "outputs": []
    },
    {
      "cell_type": "code",
      "source": [
        "# definisemo root direktorijum\n",
        "root_dir = '/tmp/cats-v-dogs'\n",
        "\n",
        "# ako podaci u direktorijumu vec postoje, obrisi ih (korisceno za potrebe testiranja)\n",
        "if os.path.exists(root_dir):\n",
        "  shutil.rmtree(root_dir)\n",
        "  \n",
        "# pozivamo funkciju za kreiranje direktorijuma\n",
        "create_train_val_dirs(root_path=root_dir)\n",
        "\n",
        "# definisemo putanje \n",
        "CAT_SOURCE_DIR = \"/tmp/PetImages/Cat/\"\n",
        "DOG_SOURCE_DIR = \"/tmp/PetImages/Dog/\"\n",
        "TRAINING_DIR = \"/tmp/cats-v-dogs/training/\"\n",
        "VALIDATION_DIR = \"/tmp/cats-v-dogs/validation/\"\n",
        "TRAINING_CATS_DIR = os.path.join(TRAINING_DIR, \"cats/\")\n",
        "VALIDATION_CATS_DIR = os.path.join(VALIDATION_DIR, \"cats/\")\n",
        "TRAINING_DOGS_DIR = os.path.join(TRAINING_DIR, \"dogs/\")\n",
        "VALIDATION_DOGS_DIR = os.path.join(VALIDATION_DIR, \"dogs/\")\n",
        "\n",
        "# definisemo split_size\n",
        "split_size = 0.9"
      ],
      "metadata": {
        "id": "almJyCb0ssQf"
      },
      "execution_count": 7,
      "outputs": []
    },
    {
      "cell_type": "code",
      "source": [
        "# pozivamo funkciju za podelu podataka\n",
        "split_data(CAT_SOURCE_DIR, TRAINING_CATS_DIR, VALIDATION_CATS_DIR, split_size)\n",
        "split_data(DOG_SOURCE_DIR, TRAINING_DOGS_DIR, VALIDATION_DOGS_DIR, split_size)\n",
        "\n",
        "# pozivamo funkciju za kreiranje generatora\n",
        "train_generator, validation_generator = train_val_generators(TRAINING_DIR, VALIDATION_DIR)\n",
        "\n",
        "# kreiramo model\n",
        "model = create_model()\n",
        "\n",
        "# treniramo model\n",
        "history = model.fit(train_generator,\n",
        "                    epochs=10,\n",
        "                    verbose=1,\n",
        "                    validation_data=validation_generator)\n",
        "\n"
      ],
      "metadata": {
        "colab": {
          "base_uri": "https://localhost:8080/"
        },
        "id": "zvHa8-dKllxD",
        "outputId": "1dfa29e2-6791-46de-a6bf-0a205efff736"
      },
      "execution_count": 25,
      "outputs": [
        {
          "output_type": "stream",
          "name": "stdout",
          "text": [
            "666.jpg is zero length, so ignoring.\n",
            "11702.jpg is zero length, so ignoring.\n",
            "Found 22498 images belonging to 2 classes.\n",
            "Found 2500 images belonging to 2 classes.\n",
            "Epoch 1/10\n",
            "1984/2250 [=========================>....] - ETA: 10s - loss: 0.6075 - accuracy: 0.6650"
          ]
        },
        {
          "output_type": "stream",
          "name": "stderr",
          "text": [
            "/usr/local/lib/python3.8/dist-packages/PIL/TiffImagePlugin.py:819: UserWarning: Truncated File Read\n",
            "  warnings.warn(str(msg))\n"
          ]
        },
        {
          "output_type": "stream",
          "name": "stdout",
          "text": [
            "2250/2250 [==============================] - 97s 42ms/step - loss: 0.5981 - accuracy: 0.6737 - val_loss: 0.5229 - val_accuracy: 0.7364\n",
            "Epoch 2/10\n",
            "2250/2250 [==============================] - 106s 47ms/step - loss: 0.4770 - accuracy: 0.7799 - val_loss: 0.4026 - val_accuracy: 0.8208\n",
            "Epoch 3/10\n",
            "2250/2250 [==============================] - 95s 42ms/step - loss: 0.4050 - accuracy: 0.8216 - val_loss: 0.4734 - val_accuracy: 0.7928\n",
            "Epoch 4/10\n",
            "2250/2250 [==============================] - 97s 43ms/step - loss: 0.3391 - accuracy: 0.8593 - val_loss: 0.3851 - val_accuracy: 0.8332\n",
            "Epoch 5/10\n",
            "2250/2250 [==============================] - 97s 43ms/step - loss: 0.2793 - accuracy: 0.8890 - val_loss: 0.4223 - val_accuracy: 0.8324\n",
            "Epoch 6/10\n",
            "2250/2250 [==============================] - 96s 43ms/step - loss: 0.2207 - accuracy: 0.9185 - val_loss: 0.6594 - val_accuracy: 0.8016\n",
            "Epoch 7/10\n",
            "2250/2250 [==============================] - 96s 42ms/step - loss: 0.1770 - accuracy: 0.9400 - val_loss: 0.7880 - val_accuracy: 0.8216\n",
            "Epoch 8/10\n",
            "2250/2250 [==============================] - 98s 43ms/step - loss: 0.1391 - accuracy: 0.9547 - val_loss: 1.1812 - val_accuracy: 0.8384\n",
            "Epoch 9/10\n",
            "2250/2250 [==============================] - 99s 44ms/step - loss: 0.1144 - accuracy: 0.9676 - val_loss: 1.0577 - val_accuracy: 0.8424\n",
            "Epoch 10/10\n",
            "2250/2250 [==============================] - 95s 42ms/step - loss: 0.0928 - accuracy: 0.9766 - val_loss: 2.2230 - val_accuracy: 0.7988\n"
          ]
        }
      ]
    },
    {
      "cell_type": "code",
      "source": [
        "# brisemo folder ukoliko vec postoji\n",
        "shutil.rmtree('/tmp/saved_model')\n",
        "\n",
        "# cuvamo model\n",
        "os.makedirs('/tmp/saved_model')\n",
        "model.save('/tmp/saved_model/my_model.h5')"
      ],
      "metadata": {
        "id": "-AtnUfJ2MY8Y"
      },
      "execution_count": 30,
      "outputs": []
    },
    {
      "cell_type": "code",
      "source": [
        "# ucitavamo model\n",
        "# model = tf.keras.models.load_model('/tmp/saved_model/my_model.h5')"
      ],
      "metadata": {
        "id": "t5TAYenbOCZq"
      },
      "execution_count": 18,
      "outputs": []
    },
    {
      "cell_type": "code",
      "source": [
        "# testiranje modela\n",
        "import numpy as np\n",
        "from google.colab import files\n",
        "from tensorflow.keras.utils import load_img, img_to_array\n",
        "\n",
        "# trazimo od korisnika da unese sliku\n",
        "print('Dodajte sliku: ')\n",
        "uploaded = files.upload()\n",
        "\n",
        "# izvlacimo putanju unete slike\n",
        "fn = list(uploaded.keys())[0]\n",
        "path = '/content/' + str(fn)\n",
        "\n",
        "# sredjujemo sliku tako da odgovora datasetu\n",
        "img = load_img(path, target_size=(150,150))\n",
        "x = img_to_array(img)\n",
        "x = x / 255\n",
        "x = np.expand_dims(x, axis=0)\n",
        "images = np.vstack([x])\n",
        "\n",
        "# pozivamo model koji daje svoju predikciju\n",
        "classes = model.predict(images, batch_size=10)\n",
        "print(classes[0])\n",
        "\n",
        "# ispisujemo rezultat \n",
        "if(classes[0]) > 0.5:\n",
        "  print(\"Na slici koju ste uneli se nalazi pas.\")\n",
        "else:\n",
        "  print(\"Na slici koju ste uneli se nalazi mačka.\")\n"
      ],
      "metadata": {
        "colab": {
          "base_uri": "https://localhost:8080/",
          "height": 146
        },
        "id": "MUo7wLPLGeH7",
        "outputId": "b88d7ba9-a15a-45da-cb85-e506c83e8f61"
      },
      "execution_count": 31,
      "outputs": [
        {
          "output_type": "stream",
          "name": "stdout",
          "text": [
            "Dodajte sliku: \n"
          ]
        },
        {
          "output_type": "display_data",
          "data": {
            "text/plain": [
              "<IPython.core.display.HTML object>"
            ],
            "text/html": [
              "\n",
              "     <input type=\"file\" id=\"files-cf6ca38e-1b58-4188-bf66-4977645abd05\" name=\"files[]\" multiple disabled\n",
              "        style=\"border:none\" />\n",
              "     <output id=\"result-cf6ca38e-1b58-4188-bf66-4977645abd05\">\n",
              "      Upload widget is only available when the cell has been executed in the\n",
              "      current browser session. Please rerun this cell to enable.\n",
              "      </output>\n",
              "      <script>// Copyright 2017 Google LLC\n",
              "//\n",
              "// Licensed under the Apache License, Version 2.0 (the \"License\");\n",
              "// you may not use this file except in compliance with the License.\n",
              "// You may obtain a copy of the License at\n",
              "//\n",
              "//      http://www.apache.org/licenses/LICENSE-2.0\n",
              "//\n",
              "// Unless required by applicable law or agreed to in writing, software\n",
              "// distributed under the License is distributed on an \"AS IS\" BASIS,\n",
              "// WITHOUT WARRANTIES OR CONDITIONS OF ANY KIND, either express or implied.\n",
              "// See the License for the specific language governing permissions and\n",
              "// limitations under the License.\n",
              "\n",
              "/**\n",
              " * @fileoverview Helpers for google.colab Python module.\n",
              " */\n",
              "(function(scope) {\n",
              "function span(text, styleAttributes = {}) {\n",
              "  const element = document.createElement('span');\n",
              "  element.textContent = text;\n",
              "  for (const key of Object.keys(styleAttributes)) {\n",
              "    element.style[key] = styleAttributes[key];\n",
              "  }\n",
              "  return element;\n",
              "}\n",
              "\n",
              "// Max number of bytes which will be uploaded at a time.\n",
              "const MAX_PAYLOAD_SIZE = 100 * 1024;\n",
              "\n",
              "function _uploadFiles(inputId, outputId) {\n",
              "  const steps = uploadFilesStep(inputId, outputId);\n",
              "  const outputElement = document.getElementById(outputId);\n",
              "  // Cache steps on the outputElement to make it available for the next call\n",
              "  // to uploadFilesContinue from Python.\n",
              "  outputElement.steps = steps;\n",
              "\n",
              "  return _uploadFilesContinue(outputId);\n",
              "}\n",
              "\n",
              "// This is roughly an async generator (not supported in the browser yet),\n",
              "// where there are multiple asynchronous steps and the Python side is going\n",
              "// to poll for completion of each step.\n",
              "// This uses a Promise to block the python side on completion of each step,\n",
              "// then passes the result of the previous step as the input to the next step.\n",
              "function _uploadFilesContinue(outputId) {\n",
              "  const outputElement = document.getElementById(outputId);\n",
              "  const steps = outputElement.steps;\n",
              "\n",
              "  const next = steps.next(outputElement.lastPromiseValue);\n",
              "  return Promise.resolve(next.value.promise).then((value) => {\n",
              "    // Cache the last promise value to make it available to the next\n",
              "    // step of the generator.\n",
              "    outputElement.lastPromiseValue = value;\n",
              "    return next.value.response;\n",
              "  });\n",
              "}\n",
              "\n",
              "/**\n",
              " * Generator function which is called between each async step of the upload\n",
              " * process.\n",
              " * @param {string} inputId Element ID of the input file picker element.\n",
              " * @param {string} outputId Element ID of the output display.\n",
              " * @return {!Iterable<!Object>} Iterable of next steps.\n",
              " */\n",
              "function* uploadFilesStep(inputId, outputId) {\n",
              "  const inputElement = document.getElementById(inputId);\n",
              "  inputElement.disabled = false;\n",
              "\n",
              "  const outputElement = document.getElementById(outputId);\n",
              "  outputElement.innerHTML = '';\n",
              "\n",
              "  const pickedPromise = new Promise((resolve) => {\n",
              "    inputElement.addEventListener('change', (e) => {\n",
              "      resolve(e.target.files);\n",
              "    });\n",
              "  });\n",
              "\n",
              "  const cancel = document.createElement('button');\n",
              "  inputElement.parentElement.appendChild(cancel);\n",
              "  cancel.textContent = 'Cancel upload';\n",
              "  const cancelPromise = new Promise((resolve) => {\n",
              "    cancel.onclick = () => {\n",
              "      resolve(null);\n",
              "    };\n",
              "  });\n",
              "\n",
              "  // Wait for the user to pick the files.\n",
              "  const files = yield {\n",
              "    promise: Promise.race([pickedPromise, cancelPromise]),\n",
              "    response: {\n",
              "      action: 'starting',\n",
              "    }\n",
              "  };\n",
              "\n",
              "  cancel.remove();\n",
              "\n",
              "  // Disable the input element since further picks are not allowed.\n",
              "  inputElement.disabled = true;\n",
              "\n",
              "  if (!files) {\n",
              "    return {\n",
              "      response: {\n",
              "        action: 'complete',\n",
              "      }\n",
              "    };\n",
              "  }\n",
              "\n",
              "  for (const file of files) {\n",
              "    const li = document.createElement('li');\n",
              "    li.append(span(file.name, {fontWeight: 'bold'}));\n",
              "    li.append(span(\n",
              "        `(${file.type || 'n/a'}) - ${file.size} bytes, ` +\n",
              "        `last modified: ${\n",
              "            file.lastModifiedDate ? file.lastModifiedDate.toLocaleDateString() :\n",
              "                                    'n/a'} - `));\n",
              "    const percent = span('0% done');\n",
              "    li.appendChild(percent);\n",
              "\n",
              "    outputElement.appendChild(li);\n",
              "\n",
              "    const fileDataPromise = new Promise((resolve) => {\n",
              "      const reader = new FileReader();\n",
              "      reader.onload = (e) => {\n",
              "        resolve(e.target.result);\n",
              "      };\n",
              "      reader.readAsArrayBuffer(file);\n",
              "    });\n",
              "    // Wait for the data to be ready.\n",
              "    let fileData = yield {\n",
              "      promise: fileDataPromise,\n",
              "      response: {\n",
              "        action: 'continue',\n",
              "      }\n",
              "    };\n",
              "\n",
              "    // Use a chunked sending to avoid message size limits. See b/62115660.\n",
              "    let position = 0;\n",
              "    do {\n",
              "      const length = Math.min(fileData.byteLength - position, MAX_PAYLOAD_SIZE);\n",
              "      const chunk = new Uint8Array(fileData, position, length);\n",
              "      position += length;\n",
              "\n",
              "      const base64 = btoa(String.fromCharCode.apply(null, chunk));\n",
              "      yield {\n",
              "        response: {\n",
              "          action: 'append',\n",
              "          file: file.name,\n",
              "          data: base64,\n",
              "        },\n",
              "      };\n",
              "\n",
              "      let percentDone = fileData.byteLength === 0 ?\n",
              "          100 :\n",
              "          Math.round((position / fileData.byteLength) * 100);\n",
              "      percent.textContent = `${percentDone}% done`;\n",
              "\n",
              "    } while (position < fileData.byteLength);\n",
              "  }\n",
              "\n",
              "  // All done.\n",
              "  yield {\n",
              "    response: {\n",
              "      action: 'complete',\n",
              "    }\n",
              "  };\n",
              "}\n",
              "\n",
              "scope.google = scope.google || {};\n",
              "scope.google.colab = scope.google.colab || {};\n",
              "scope.google.colab._files = {\n",
              "  _uploadFiles,\n",
              "  _uploadFilesContinue,\n",
              "};\n",
              "})(self);\n",
              "</script> "
            ]
          },
          "metadata": {}
        },
        {
          "output_type": "stream",
          "name": "stdout",
          "text": [
            "Saving WhatsApp Image 2023-03-07 at 00.27.47.jpg to WhatsApp Image 2023-03-07 at 00.27.47 (1).jpg\n",
            "1/1 [==============================] - 0s 111ms/step\n",
            "[0.95087254]\n",
            "Na slici koju ste uneli se nalazi pas.\n"
          ]
        }
      ]
    }
  ]
}
